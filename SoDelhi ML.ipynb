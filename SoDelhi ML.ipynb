{
 "cells": [
  {
   "cell_type": "code",
   "execution_count": 74,
   "metadata": {},
   "outputs": [
    {
     "ename": "ImportError",
     "evalue": "cannot import name __check_build",
     "output_type": "error",
     "traceback": [
      "\u001b[1;31m---------------------------------------------------------------------------\u001b[0m",
      "\u001b[1;31mImportError\u001b[0m                               Traceback (most recent call last)",
      "\u001b[1;32m<ipython-input-74-8632247f1b7f>\u001b[0m in \u001b[0;36m<module>\u001b[1;34m()\u001b[0m\n\u001b[0;32m      1\u001b[0m \u001b[1;32mimport\u001b[0m \u001b[0mpandas\u001b[0m \u001b[1;32mas\u001b[0m \u001b[0mpd\u001b[0m\u001b[1;33m\u001b[0m\u001b[0m\n\u001b[0;32m      2\u001b[0m \u001b[1;32mimport\u001b[0m \u001b[0mnumpy\u001b[0m \u001b[1;32mas\u001b[0m \u001b[0mnp\u001b[0m\u001b[1;33m\u001b[0m\u001b[0m\n\u001b[1;32m----> 3\u001b[1;33m \u001b[1;32mfrom\u001b[0m \u001b[0msklearn\u001b[0m\u001b[1;33m.\u001b[0m\u001b[0mcross_validation\u001b[0m \u001b[1;32mimport\u001b[0m \u001b[0mtrain_test_split\u001b[0m\u001b[1;33m\u001b[0m\u001b[0m\n\u001b[0m",
      "\u001b[1;32mC:\\Users\\raj\\Anaconda3\\lib\\site-packages\\sklearn\\__init__.py\u001b[0m in \u001b[0;36m<module>\u001b[1;34m()\u001b[0m\n\u001b[0;32m     54\u001b[0m     \u001b[1;31m# process, as it may not be compiled yet\u001b[0m\u001b[1;33m\u001b[0m\u001b[1;33m\u001b[0m\u001b[0m\n\u001b[0;32m     55\u001b[0m \u001b[1;32melse\u001b[0m\u001b[1;33m:\u001b[0m\u001b[1;33m\u001b[0m\u001b[0m\n\u001b[1;32m---> 56\u001b[1;33m     \u001b[1;32mfrom\u001b[0m \u001b[1;33m.\u001b[0m \u001b[1;32mimport\u001b[0m \u001b[0m__check_build\u001b[0m\u001b[1;33m\u001b[0m\u001b[0m\n\u001b[0m\u001b[0;32m     57\u001b[0m     \u001b[1;32mfrom\u001b[0m \u001b[1;33m.\u001b[0m\u001b[0mbase\u001b[0m \u001b[1;32mimport\u001b[0m \u001b[0mclone\u001b[0m\u001b[1;33m\u001b[0m\u001b[0m\n\u001b[0;32m     58\u001b[0m     \u001b[0m__check_build\u001b[0m  \u001b[1;31m# avoid flakes unused variable error\u001b[0m\u001b[1;33m\u001b[0m\u001b[0m\n",
      "\u001b[1;31mImportError\u001b[0m: cannot import name __check_build"
     ]
    }
   ],
   "source": [
    "import pandas as pd\n",
    "import numpy as np\n",
    "from sklearn.cross_validation import train_test_split"
   ]
  },
  {
   "cell_type": "code",
   "execution_count": 69,
   "metadata": {},
   "outputs": [],
   "source": [
    "data = pd.read_csv('Assigment 2 - Train.txt', sep= \"|\", header=None, names = ['Image_Id','gt_total','gt_time', 'gt_date', 'pred_total', 'pred_time', 'pred_date','conf_total','conf_time','conf_date'])"
   ]
  },
  {
   "cell_type": "code",
   "execution_count": 70,
   "metadata": {},
   "outputs": [
    {
     "data": {
      "text/html": [
       "<div>\n",
       "<style>\n",
       "    .dataframe thead tr:only-child th {\n",
       "        text-align: right;\n",
       "    }\n",
       "\n",
       "    .dataframe thead th {\n",
       "        text-align: left;\n",
       "    }\n",
       "\n",
       "    .dataframe tbody tr th {\n",
       "        vertical-align: top;\n",
       "    }\n",
       "</style>\n",
       "<table border=\"1\" class=\"dataframe\">\n",
       "  <thead>\n",
       "    <tr style=\"text-align: right;\">\n",
       "      <th></th>\n",
       "      <th>Image_Id</th>\n",
       "      <th>gt_total</th>\n",
       "      <th>gt_time</th>\n",
       "      <th>gt_date</th>\n",
       "      <th>pred_total</th>\n",
       "      <th>pred_time</th>\n",
       "      <th>pred_date</th>\n",
       "      <th>conf_total</th>\n",
       "      <th>conf_time</th>\n",
       "      <th>conf_date</th>\n",
       "    </tr>\n",
       "  </thead>\n",
       "  <tbody>\n",
       "    <tr>\n",
       "      <th>0</th>\n",
       "      <td>1</td>\n",
       "      <td>160</td>\n",
       "      <td>2016-09-11</td>\n",
       "      <td>13:52:00</td>\n",
       "      <td>160</td>\n",
       "      <td>2016-03-11</td>\n",
       "      <td>13:52:00</td>\n",
       "      <td>-0.001974</td>\n",
       "      <td>-1.180410</td>\n",
       "      <td>-0.008496</td>\n",
       "    </tr>\n",
       "    <tr>\n",
       "      <th>1</th>\n",
       "      <td>3</td>\n",
       "      <td>195</td>\n",
       "      <td>2016-09-23</td>\n",
       "      <td>18:52:00</td>\n",
       "      <td>195</td>\n",
       "      <td>2016-09-23</td>\n",
       "      <td>18:52:00</td>\n",
       "      <td>-0.011053</td>\n",
       "      <td>-0.864236</td>\n",
       "      <td>-0.018932</td>\n",
       "    </tr>\n",
       "    <tr>\n",
       "      <th>2</th>\n",
       "      <td>4</td>\n",
       "      <td>145</td>\n",
       "      <td>2016-10-02</td>\n",
       "      <td>15:58:00</td>\n",
       "      <td>145</td>\n",
       "      <td>2017-10-18</td>\n",
       "      <td>15:58:00</td>\n",
       "      <td>-0.002920</td>\n",
       "      <td>-2.266910</td>\n",
       "      <td>-0.978772</td>\n",
       "    </tr>\n",
       "    <tr>\n",
       "      <th>3</th>\n",
       "      <td>4</td>\n",
       "      <td>243</td>\n",
       "      <td>2016-09-26</td>\n",
       "      <td>18:25:00</td>\n",
       "      <td>243</td>\n",
       "      <td>2017-09-26</td>\n",
       "      <td>18:25:00</td>\n",
       "      <td>-0.075094</td>\n",
       "      <td>-0.810062</td>\n",
       "      <td>-0.123047</td>\n",
       "    </tr>\n",
       "    <tr>\n",
       "      <th>4</th>\n",
       "      <td>6</td>\n",
       "      <td>71</td>\n",
       "      <td>2016-09-19</td>\n",
       "      <td>13:47:00</td>\n",
       "      <td>71</td>\n",
       "      <td>2016-08-19</td>\n",
       "      <td>13:47:00</td>\n",
       "      <td>-0.014107</td>\n",
       "      <td>-0.664796</td>\n",
       "      <td>-0.003986</td>\n",
       "    </tr>\n",
       "  </tbody>\n",
       "</table>\n",
       "</div>"
      ],
      "text/plain": [
       "   Image_Id  gt_total     gt_time   gt_date  pred_total   pred_time pred_date  \\\n",
       "0         1       160  2016-09-11  13:52:00         160  2016-03-11  13:52:00   \n",
       "1         3       195  2016-09-23  18:52:00         195  2016-09-23  18:52:00   \n",
       "2         4       145  2016-10-02  15:58:00         145  2017-10-18  15:58:00   \n",
       "3         4       243  2016-09-26  18:25:00         243  2017-09-26  18:25:00   \n",
       "4         6        71  2016-09-19  13:47:00          71  2016-08-19  13:47:00   \n",
       "\n",
       "   conf_total  conf_time  conf_date  \n",
       "0   -0.001974  -1.180410  -0.008496  \n",
       "1   -0.011053  -0.864236  -0.018932  \n",
       "2   -0.002920  -2.266910  -0.978772  \n",
       "3   -0.075094  -0.810062  -0.123047  \n",
       "4   -0.014107  -0.664796  -0.003986  "
      ]
     },
     "execution_count": 70,
     "metadata": {},
     "output_type": "execute_result"
    }
   ],
   "source": [
    "data.head()"
   ]
  },
  {
   "cell_type": "code",
   "execution_count": 71,
   "metadata": {},
   "outputs": [],
   "source": [
    "def f1(data):\n",
    "    if (data['gt_total'] == data['pred_total']) & (data['gt_date'] == data['pred_date']) & (data['gt_time'] == data['pred_time']):\n",
    "        return 1\n",
    "    else:\n",
    "        return 0"
   ]
  },
  {
   "cell_type": "code",
   "execution_count": 72,
   "metadata": {},
   "outputs": [],
   "source": [
    "data['label'] = data.apply(f1, axis =1)"
   ]
  },
  {
   "cell_type": "code",
   "execution_count": 73,
   "metadata": {},
   "outputs": [
    {
     "data": {
      "text/plain": [
       "0    4249\n",
       "1     751\n",
       "Name: label, dtype: int64"
      ]
     },
     "execution_count": 73,
     "metadata": {},
     "output_type": "execute_result"
    }
   ],
   "source": [
    "data['label'].value_counts()"
   ]
  },
  {
   "cell_type": "code",
   "execution_count": 63,
   "metadata": {},
   "outputs": [],
   "source": []
  },
  {
   "cell_type": "code",
   "execution_count": null,
   "metadata": {},
   "outputs": [],
   "source": []
  },
  {
   "cell_type": "code",
   "execution_count": null,
   "metadata": {
    "collapsed": true
   },
   "outputs": [],
   "source": []
  }
 ],
 "metadata": {
  "kernelspec": {
   "display_name": "Python 2",
   "language": "python",
   "name": "python2"
  },
  "language_info": {
   "codemirror_mode": {
    "name": "ipython",
    "version": 2
   },
   "file_extension": ".py",
   "mimetype": "text/x-python",
   "name": "python",
   "nbconvert_exporter": "python",
   "pygments_lexer": "ipython2",
   "version": "2.7.3"
  }
 },
 "nbformat": 4,
 "nbformat_minor": 2
}
