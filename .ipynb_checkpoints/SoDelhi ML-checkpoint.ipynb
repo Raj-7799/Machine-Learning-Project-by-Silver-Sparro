{
 "cells": [
  {
   "cell_type": "code",
   "execution_count": 20,
   "metadata": {},
   "outputs": [],
   "source": [
    "import pandas as pd\n",
    "import numpy as np\n",
    "from sklearn.cross_validation import train_test_split\n",
    "from sklearn import svm"
   ]
  },
  {
   "cell_type": "code",
   "execution_count": 21,
   "metadata": {
    "collapsed": true
   },
   "outputs": [],
   "source": [
    "data = pd.read_csv('Assigment 2 - Train.txt', sep= \"|\", header=None, names = ['Image_Id','gt_total','gt_date', 'gt_time', 'pred_total', 'pred_date', 'pred_time','conf_total','conf_date','conf_time'])"
   ]
  },
  {
   "cell_type": "code",
   "execution_count": 22,
   "metadata": {},
   "outputs": [
    {
     "data": {
      "text/html": [
       "<div>\n",
       "<style>\n",
       "    .dataframe thead tr:only-child th {\n",
       "        text-align: right;\n",
       "    }\n",
       "\n",
       "    .dataframe thead th {\n",
       "        text-align: left;\n",
       "    }\n",
       "\n",
       "    .dataframe tbody tr th {\n",
       "        vertical-align: top;\n",
       "    }\n",
       "</style>\n",
       "<table border=\"1\" class=\"dataframe\">\n",
       "  <thead>\n",
       "    <tr style=\"text-align: right;\">\n",
       "      <th></th>\n",
       "      <th>Image_Id</th>\n",
       "      <th>gt_total</th>\n",
       "      <th>gt_date</th>\n",
       "      <th>gt_time</th>\n",
       "      <th>pred_total</th>\n",
       "      <th>pred_date</th>\n",
       "      <th>pred_time</th>\n",
       "      <th>conf_total</th>\n",
       "      <th>conf_date</th>\n",
       "      <th>conf_time</th>\n",
       "    </tr>\n",
       "  </thead>\n",
       "  <tbody>\n",
       "    <tr>\n",
       "      <th>0</th>\n",
       "      <td>1</td>\n",
       "      <td>160</td>\n",
       "      <td>2016-09-11</td>\n",
       "      <td>13:52:00</td>\n",
       "      <td>160</td>\n",
       "      <td>2016-03-11</td>\n",
       "      <td>13:52:00</td>\n",
       "      <td>-0.001974</td>\n",
       "      <td>-1.180410</td>\n",
       "      <td>-0.008496</td>\n",
       "    </tr>\n",
       "    <tr>\n",
       "      <th>1</th>\n",
       "      <td>3</td>\n",
       "      <td>195</td>\n",
       "      <td>2016-09-23</td>\n",
       "      <td>18:52:00</td>\n",
       "      <td>195</td>\n",
       "      <td>2016-09-23</td>\n",
       "      <td>18:52:00</td>\n",
       "      <td>-0.011053</td>\n",
       "      <td>-0.864236</td>\n",
       "      <td>-0.018932</td>\n",
       "    </tr>\n",
       "    <tr>\n",
       "      <th>2</th>\n",
       "      <td>4</td>\n",
       "      <td>145</td>\n",
       "      <td>2016-10-02</td>\n",
       "      <td>15:58:00</td>\n",
       "      <td>145</td>\n",
       "      <td>2017-10-18</td>\n",
       "      <td>15:58:00</td>\n",
       "      <td>-0.002920</td>\n",
       "      <td>-2.266910</td>\n",
       "      <td>-0.978772</td>\n",
       "    </tr>\n",
       "    <tr>\n",
       "      <th>3</th>\n",
       "      <td>4</td>\n",
       "      <td>243</td>\n",
       "      <td>2016-09-26</td>\n",
       "      <td>18:25:00</td>\n",
       "      <td>243</td>\n",
       "      <td>2017-09-26</td>\n",
       "      <td>18:25:00</td>\n",
       "      <td>-0.075094</td>\n",
       "      <td>-0.810062</td>\n",
       "      <td>-0.123047</td>\n",
       "    </tr>\n",
       "    <tr>\n",
       "      <th>4</th>\n",
       "      <td>6</td>\n",
       "      <td>71</td>\n",
       "      <td>2016-09-19</td>\n",
       "      <td>13:47:00</td>\n",
       "      <td>71</td>\n",
       "      <td>2016-08-19</td>\n",
       "      <td>13:47:00</td>\n",
       "      <td>-0.014107</td>\n",
       "      <td>-0.664796</td>\n",
       "      <td>-0.003986</td>\n",
       "    </tr>\n",
       "  </tbody>\n",
       "</table>\n",
       "</div>"
      ],
      "text/plain": [
       "   Image_Id  gt_total     gt_date   gt_time  pred_total   pred_date pred_time  \\\n",
       "0         1       160  2016-09-11  13:52:00         160  2016-03-11  13:52:00   \n",
       "1         3       195  2016-09-23  18:52:00         195  2016-09-23  18:52:00   \n",
       "2         4       145  2016-10-02  15:58:00         145  2017-10-18  15:58:00   \n",
       "3         4       243  2016-09-26  18:25:00         243  2017-09-26  18:25:00   \n",
       "4         6        71  2016-09-19  13:47:00          71  2016-08-19  13:47:00   \n",
       "\n",
       "   conf_total  conf_date  conf_time  \n",
       "0   -0.001974  -1.180410  -0.008496  \n",
       "1   -0.011053  -0.864236  -0.018932  \n",
       "2   -0.002920  -2.266910  -0.978772  \n",
       "3   -0.075094  -0.810062  -0.123047  \n",
       "4   -0.014107  -0.664796  -0.003986  "
      ]
     },
     "execution_count": 22,
     "metadata": {},
     "output_type": "execute_result"
    }
   ],
   "source": [
    "data.head()"
   ]
  },
  {
   "cell_type": "code",
   "execution_count": 23,
   "metadata": {
    "collapsed": true
   },
   "outputs": [],
   "source": [
    "def f1(data):\n",
    "    if (data['gt_total'] == data['pred_total']) & (data['gt_date'] == data['pred_date']) & (data['gt_time'] == data['pred_time']):\n",
    "        return 1\n",
    "    else:\n",
    "        return 0"
   ]
  },
  {
   "cell_type": "code",
   "execution_count": 24,
   "metadata": {
    "collapsed": true
   },
   "outputs": [],
   "source": [
    "data['label'] = data.apply(f1, axis =1)"
   ]
  },
  {
   "cell_type": "code",
   "execution_count": 25,
   "metadata": {},
   "outputs": [
    {
     "data": {
      "text/plain": [
       "0    4249\n",
       "1     751\n",
       "Name: label, dtype: int64"
      ]
     },
     "execution_count": 25,
     "metadata": {},
     "output_type": "execute_result"
    }
   ],
   "source": [
    "data['label'].value_counts()"
   ]
  },
  {
   "cell_type": "code",
   "execution_count": 26,
   "metadata": {
    "collapsed": true
   },
   "outputs": [],
   "source": [
    "label = data['label']"
   ]
  },
  {
   "cell_type": "code",
   "execution_count": 27,
   "metadata": {},
   "outputs": [],
   "source": [
    "data = data.drop('label', axis = 1)"
   ]
  },
  {
   "cell_type": "code",
   "execution_count": 28,
   "metadata": {},
   "outputs": [],
   "source": [
    "X_train, X_test, y_train, y_test = train_test_split(data, \n",
    "                                                    label, \n",
    "                                                    test_size = 0.2, \n",
    "                                                    random_state = 42)"
   ]
  },
  {
   "cell_type": "code",
   "execution_count": 29,
   "metadata": {
    "collapsed": true
   },
   "outputs": [],
   "source": [
    "clf = svm.SVC()"
   ]
  },
  {
   "cell_type": "code",
   "execution_count": 39,
   "metadata": {},
   "outputs": [
    {
     "data": {
      "text/plain": [
       "100      55\n",
       "130      44\n",
       "140      40\n",
       "120      40\n",
       "300      38\n",
       "180      34\n",
       "70       32\n",
       "110      32\n",
       "30       31\n",
       "220      28\n",
       "160      28\n",
       "150      28\n",
       "60       27\n",
       "50       26\n",
       "80       24\n",
       "360      22\n",
       "40       22\n",
       "155      21\n",
       "200      21\n",
       "260      20\n",
       "290      20\n",
       "105      20\n",
       "250      20\n",
       "190      19\n",
       "240      19\n",
       "280      19\n",
       "90       19\n",
       "95       18\n",
       "320      18\n",
       "165      18\n",
       "         ..\n",
       "766       1\n",
       "4876      1\n",
       "4892      1\n",
       "802       1\n",
       "810       1\n",
       "814       1\n",
       "834       1\n",
       "2899      1\n",
       "690       1\n",
       "2723      1\n",
       "562       1\n",
       "674       1\n",
       "18995     1\n",
       "574       1\n",
       "6729      1\n",
       "586       1\n",
       "2647      1\n",
       "610       1\n",
       "4708      1\n",
       "614       1\n",
       "2663      1\n",
       "2675      1\n",
       "630       1\n",
       "638       1\n",
       "646       1\n",
       "2699      1\n",
       "654       1\n",
       "658       1\n",
       "662       1\n",
       "0         1\n",
       "Name: pred_total, Length: 1817, dtype: int64"
      ]
     },
     "execution_count": 39,
     "metadata": {},
     "output_type": "execute_result"
    }
   ],
   "source": [
    "data['pred_total'].value_counts()"
   ]
  },
  {
   "cell_type": "code",
   "execution_count": null,
   "metadata": {
    "collapsed": true
   },
   "outputs": [],
   "source": []
  }
 ],
 "metadata": {
  "kernelspec": {
   "display_name": "Python 2",
   "language": "python",
   "name": "python2"
  },
  "language_info": {
   "codemirror_mode": {
    "name": "ipython",
    "version": 2
   },
   "file_extension": ".py",
   "mimetype": "text/x-python",
   "name": "python",
   "nbconvert_exporter": "python",
   "pygments_lexer": "ipython2",
   "version": "2.7.13"
  }
 },
 "nbformat": 4,
 "nbformat_minor": 2
}
